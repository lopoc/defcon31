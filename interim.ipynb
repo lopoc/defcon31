{
 "cells": [
  {
   "cell_type": "markdown",
   "id": "f893f257-a18b-45af-a89a-f442c61d0d47",
   "metadata": {},
   "source": [
    "# IMPORTING STUFFS"
   ]
  },
  {
   "cell_type": "code",
   "execution_count": 5,
   "id": "3d834307-e65f-434f-9961-c714ddc3b0dd",
   "metadata": {
    "tags": []
   },
   "outputs": [],
   "source": [
    "import numpy as np\n",
    "\n",
    "import folium\n",
    "import pickle\n",
    "import datetime as dt\n",
    "import random as rnd\n",
    "import itertools\n",
    "import requests\n",
    "from numpy import mean, std\n",
    "from scipy.optimize import differential_evolution as optimizer\n",
    "\n",
    "from math import radians, acos, sin, cos, sin,degrees, sqrt, log, exp\n"
   ]
  },
  {
   "cell_type": "markdown",
   "id": "77482b17-9356-4f84-9351-0ec08bbb0de4",
   "metadata": {},
   "source": [
    "# SOME CONSTANTS"
   ]
  },
  {
   "cell_type": "code",
   "execution_count": 6,
   "id": "8e9da7df-5fd0-4dad-b84e-84f756680ef5",
   "metadata": {
    "tags": []
   },
   "outputs": [],
   "source": [
    "R =  6371.0088e3\n",
    "kms_per_radian = R # quite obvious :)\n",
    "\n",
    "model_version = '0_43_2_2'\n",
    "model_version = '0_99_5'\n"
   ]
  },
  {
   "cell_type": "markdown",
   "id": "03b56544-c0a1-4a0b-bd80-ae348c7fc861",
   "metadata": {},
   "source": [
    "---\n",
    "# FUNCTIONS"
   ]
  },
  {
   "cell_type": "markdown",
   "id": "ee22813e-beb6-4de7-96d0-76591d276473",
   "metadata": {},
   "source": [
    "## SHORTEST ARC\n",
    "The haversine formula determines the **great-circle distance between two points on a sphere** given their longitudes and latitudes. Important in navigation, it is a special case of a more general formula in spherical trigonometry, the law of haversines, that relates the sides and angles of spherical triangles.\n",
    "\n",
    "[Haversine funtion](https://en.wikipedia.org/wiki/Haversine_formula)"
   ]
  },
  {
   "cell_type": "code",
   "execution_count": 7,
   "id": "c246ec1c-1ab1-41c2-b6f5-259ded810643",
   "metadata": {},
   "outputs": [],
   "source": [
    "def geo_distance(P1, P2):\n",
    "    # [lat, lon]\n",
    "    lat1, lon1, lat2, lon2 = map(radians, [P1[0], P1[1], P2[0], P2[1]])\n",
    "    return R * (\n",
    "        acos(sin(lat1) * sin(lat2) + cos(lat1) * cos(lat2) * cos(lon1 - lon2))\n",
    "    )"
   ]
  },
  {
   "cell_type": "markdown",
   "id": "bf1b8939-9f92-4ed5-9439-9da88d20cef5",
   "metadata": {},
   "source": [
    "## SVR DISTANCE MODEL\n",
    "Our ml_model"
   ]
  },
  {
   "cell_type": "code",
   "execution_count": 14,
   "id": "9d3cff52-f972-4dca-b9ca-fb3896d1801e",
   "metadata": {},
   "outputs": [],
   "source": [
    "from sklearn import svm\n",
    "\n",
    "svm_model = pickle.load(open(f'models/Little_SVM_{model_version}.pkl', 'rb'))\n",
    "svm_error_model = pickle.load(open(f'models/Little_SVM_{model_version}_err.pkl', 'rb'))\n",
    "\n",
    "\n",
    "with open(f'models/country_codes_svm.pkl','rb') as fp:\n",
    "    country_codes = pickle.load(fp)\n",
    "\n",
    "\n",
    "def ml_model(t, country_code):\n",
    "    b=[t]\n",
    "    b=np.array(b).reshape(1,1)\n",
    "    v=get_bow(country_code) * t\n",
    "    v=v.reshape(1,len(country_codes))\n",
    "    prediction = svm_model.predict(v)\n",
    "    error = svm_error_model.predict(v) # <----  PORCO DIO E' SBAGLIATO\n",
    "    D = prediction*20.0e6\n",
    "    E = error\n",
    "    return D[0], E[0]\n",
    "\n",
    "\n",
    "def get_bow(country_code):\n",
    "    country_dict = {code:0 for code in country_codes}\n",
    "    country_dict[country_code] = 1.0\n",
    "    return np.fromiter(country_dict.values(), dtype=float)"
   ]
  },
  {
   "cell_type": "markdown",
   "id": "b80b2fbb-cfc5-414e-be22-b773392f5015",
   "metadata": {},
   "source": [
    "---"
   ]
  },
  {
   "cell_type": "markdown",
   "id": "be443e09-99f6-4326-8332-c3e98aba9401",
   "metadata": {},
   "source": [
    "# DATA\n",
    "\n",
    "put here you points, country codes, and latency data\n",
    "(example data of a server in Italy https://dw2xlr3zknsst.cloudfront.net/u)\n"
   ]
  },
  {
   "cell_type": "code",
   "execution_count": 15,
   "id": "103709c6-07b5-4082-9ff5-282f6c265b32",
   "metadata": {
    "tags": []
   },
   "outputs": [],
   "source": [
    "src_country_codes = ['JP', 'SE', 'US', 'DE', 'US', 'US', 'KR', 'FR', 'IN', 'CA']\n",
    "\n",
    "points = [[35.68972, 139.69222],\n",
    "          [59.334591, 18.06324],\n",
    "          [45.45524, -119.63342],\n",
    "          [50.110924, 8.682127],\n",
    "          [39.04237, -77.487244],\n",
    "          [40.058731, -83.175583],\n",
    "          [37.5326, 127.024612],\n",
    "          [48.864716, 2.349014],\n",
    "          [19.07609, 72.877426],\n",
    "          [45.50884, -73.58781]\n",
    "         ]\n",
    "\n",
    "times = [0.39523700000000006,\n",
    "         0.18285,\n",
    "         0.309315,\n",
    "         0.15809099999999998,\n",
    "         0.23639700000000002,\n",
    "         0.26298499999999997,\n",
    "         0.405799,\n",
    "         0.168604,\n",
    "         0.34653599999999996,\n",
    "         0.25154]\n"
   ]
  },
  {
   "cell_type": "markdown",
   "id": "b377bb88-a3b1-43be-978b-6a1bfce33845",
   "metadata": {},
   "source": [
    "# ESTIMATE OFFSET"
   ]
  },
  {
   "cell_type": "code",
   "execution_count": 16,
   "id": "902f3c99-35ea-44c3-a534-434bd0d3a924",
   "metadata": {
    "tags": []
   },
   "outputs": [
    {
     "name": "stdout",
     "output_type": "stream",
     "text": [
      "0.04214883579469814\n",
      "0.14133589238892663\n",
      "0.14889259710202746\n",
      "0.15047822447052292\n",
      "0.12084712413628013\n",
      "0.15809099999999998\n",
      "0.16305390655139496\n",
      "0.15459190311899718\n",
      "0.11591693538989113\n",
      "0.12015690259549015\n",
      "0.15809099999999998\n",
      "CPU times: user 1min 44s, sys: 520 ms, total: 1min 45s\n",
      "Wall time: 1min 45s\n"
     ]
    }
   ],
   "source": [
    "%%time\n",
    "\n",
    "def offset_trilateration(points, times):\n",
    "    def error(x, p, t):\n",
    "        err = 0\n",
    "        for i in range(len(p)):\n",
    "            d = geo_distance(p[i], x[0:2])\n",
    "            distance, error = ml_model(t[i] - x[2], src_country_codes[i])\n",
    "            err +=  abs(d - (distance))\n",
    "        return err\n",
    "    \n",
    "    bounds = [(-50., 80.),\n",
    "              (-180., 180.),\n",
    "              (0, min(times)),  #we want non negative latencies\n",
    "             ]\n",
    "    \n",
    "    res = optimizer(error,\n",
    "                    bounds,\n",
    "                    args=(points, times),\n",
    "                    strategy='best1bin',\n",
    "                    popsize=10,\n",
    "                    tol=1e-2,\n",
    "                    init='random')\n",
    "    \n",
    "    return res.x, res.fun\n",
    "\n",
    "\n",
    "              \n",
    "data = []\n",
    "k = len(points)\n",
    "\n",
    "for N in range(k-1, k+1):\n",
    "    combinations = list(itertools.combinations(range(len(points)), N))\n",
    "    for pos in combinations:\n",
    "        _points = [points[index] for index in pos]\n",
    "        _times  = [times[index] for index in pos]\n",
    "        \n",
    "        out, fun = offset_trilateration(_points, _times)\n",
    "        target = out[0:2]\n",
    "        print(out[2])\n",
    "        data.append([target, out[2], fun, pos ])"
   ]
  },
  {
   "cell_type": "code",
   "execution_count": 17,
   "id": "420a9cd9-65ef-4d03-82e6-7602084b0cf3",
   "metadata": {},
   "outputs": [],
   "source": [
    "data_orig = data\n",
    "data_orig.sort(key=lambda x: x[2]) # sorting by offset"
   ]
  },
  {
   "cell_type": "code",
   "execution_count": 18,
   "id": "0c8baded-b738-4ab8-b9ff-6d6803df3261",
   "metadata": {
    "tags": []
   },
   "outputs": [],
   "source": [
    "data = data_orig # first N offsets"
   ]
  },
  {
   "cell_type": "code",
   "execution_count": 19,
   "id": "701961ac-6987-4234-b8d5-b4a5bb1200f1",
   "metadata": {},
   "outputs": [
    {
     "name": "stdout",
     "output_type": "stream",
     "text": [
      "Offeset: 133ms\n"
     ]
    }
   ],
   "source": [
    "offset = data[0][1]\n",
    "offset = sum([d[1] for d in data]) / len(data) # mean value\n",
    "\n",
    "print(f'Offeset: {int(offset*1000)}ms')"
   ]
  },
  {
   "cell_type": "code",
   "execution_count": 20,
   "id": "fcd03bf6-ae12-4945-a00d-133fc3353296",
   "metadata": {},
   "outputs": [],
   "source": [
    "times  = [t-offset for t in times] # applying offset"
   ]
  },
  {
   "cell_type": "markdown",
   "id": "b7cdce06-39eb-4b3f-883f-c04d101d01e9",
   "metadata": {},
   "source": [
    "---"
   ]
  },
  {
   "cell_type": "markdown",
   "id": "503dd8a6-6cc3-4798-9074-b3b18e296a46",
   "metadata": {},
   "source": [
    "# ESTIMATE DISTANCES"
   ]
  },
  {
   "cell_type": "code",
   "execution_count": 22,
   "id": "3a0612ee-13bb-4ed9-9341-64c06c652777",
   "metadata": {
    "tags": []
   },
   "outputs": [
    {
     "name": "stdout",
     "output_type": "stream",
     "text": [
      "JP\t261 ms\t9672 Km\n",
      "SE\t48 ms\t2453 Km\n",
      "US\t175 ms\t10889 Km\n",
      "DE\t24 ms\t805 Km\n",
      "US\t102 ms\t6572 Km\n",
      "US\t129 ms\t8379 Km\n",
      "KR\t271 ms\t8528 Km\n",
      "FR\t34 ms\t1521 Km\n",
      "IN\t212 ms\t10445 Km\n",
      "CA\t117 ms\t6726 Km\n"
     ]
    }
   ],
   "source": [
    "dists = []\n",
    "errs  = []\n",
    "\n",
    "for i in range(len(points)):\n",
    "    distance, error = ml_model((times[i]), src_country_codes[i])\n",
    "    dists.append(abs(distance))\n",
    "    errs.append(error)\n",
    "    print(f'{src_country_codes[i]}\\t{int((times[i])*1000)} ms\\t{int(distance/1000)} Km')\n",
    "    \n",
    "errs = list(abs(np.array(errs)))"
   ]
  },
  {
   "cell_type": "code",
   "execution_count": 23,
   "id": "00eb317d-ee02-43bd-8824-6d5a8112d93b",
   "metadata": {
    "tags": []
   },
   "outputs": [],
   "source": [
    "#C_Bound!\n",
    "\n",
    "C = 300.e6/(1.5)/(2**0.5)\n",
    "min_latency = min(times)\n",
    "min_latency_index = np.argmin(times)\n",
    "C_Radius = min_latency/2*C\n",
    "\n",
    "C_dists = [t/2*C for t in times]\n"
   ]
  },
  {
   "cell_type": "markdown",
   "id": "17385368-579b-430d-a8cf-11dc5574fc48",
   "metadata": {
    "tags": []
   },
   "source": [
    "---\n",
    "# DOING TRILATERATION"
   ]
  },
  {
   "cell_type": "code",
   "execution_count": 24,
   "id": "8ed1b8a8-18a8-436d-af84-bac00a0612f9",
   "metadata": {},
   "outputs": [
    {
     "name": "stdout",
     "output_type": "stream",
     "text": [
      "CPU times: user 31.6 s, sys: 144 ms, total: 31.8 s\n",
      "Wall time: 31.8 s\n"
     ]
    }
   ],
   "source": [
    "%%time\n",
    "def trilateration(points, distances, errors):\n",
    "    def error(x, points, distances, errors):\n",
    "        err = 0\n",
    "        for i in range(len(points)):\n",
    "            d = geo_distance(points[i], x[0:2])\n",
    "            err +=  (d - (distances[i]*x[2] ))**2 / errors[i]\n",
    "        return err\n",
    "    \n",
    "    x0 = np.mean(points, axis=0).tolist()\n",
    "    bounds = [(-50., 80.),\n",
    "              (-180., 180.),\n",
    "              (0.3, 1.7),\n",
    "              (-10_000e3, +10_000e3)\n",
    "             ]\n",
    "    res = optimizer(error, bounds, args=(points, distances, errors), strategy='best1bin', popsize=10, tol=1e-3)\n",
    "    return res.x, res.fun\n",
    "\n",
    "\n",
    "\n",
    "data_orig = []\n",
    "\n",
    "k = len(points)\n",
    "              \n",
    "for N in range(k-3,k+1):\n",
    "    combinations = list(itertools.combinations(range(len(points)), N))\n",
    "    for pos in combinations:\n",
    "        tries   = 8\n",
    "        points_ = [points[index] for index in pos]\n",
    "        dists_  = [dists[index]  for index in pos]\n",
    "        errs_   = [errs[index]*dists[index] for index in pos]\n",
    "\n",
    "        while tries:\n",
    "            dists__ = [np.random.normal(dists_[d], errs_[d]**0.5) for d in range(len(dists_))]\n",
    "            out, fun = trilateration(points_, dists__, errs)\n",
    "            target = out[0:2]\n",
    "\n",
    "            if geo_distance(target, points[min_latency_index]) :\n",
    "                data_orig.append([target, abs(1-out[2]), abs(out[3]), fun, pos ])\n",
    "                tries-=1"
   ]
  },
  {
   "cell_type": "code",
   "execution_count": 25,
   "id": "9018e0df-236c-4651-8a91-7d003017ea63",
   "metadata": {},
   "outputs": [],
   "source": [
    "data_orig.sort(key=lambda x: x[3])"
   ]
  },
  {
   "cell_type": "code",
   "execution_count": 26,
   "id": "7c715254-dfbd-4336-80f5-431729c80992",
   "metadata": {},
   "outputs": [
    {
     "data": {
      "text/plain": [
       "281"
      ]
     },
     "execution_count": 26,
     "metadata": {},
     "output_type": "execute_result"
    }
   ],
   "source": [
    "data = data_orig[0:int(len(data_orig)/5)] # one tenth of most \"precise\" data\n",
    "len(data)"
   ]
  },
  {
   "cell_type": "markdown",
   "id": "41c2a318-2ec7-4e7e-a32e-4f22caf422ab",
   "metadata": {},
   "source": [
    "# CLUSTERING "
   ]
  },
  {
   "cell_type": "code",
   "execution_count": 29,
   "id": "2d401fcb-0154-4abe-b19b-0a053dfd94c4",
   "metadata": {
    "tags": []
   },
   "outputs": [
    {
     "name": "stdout",
     "output_type": "stream",
     "text": [
      "Number of clusters: 3\n"
     ]
    }
   ],
   "source": [
    "import pandas as pd\n",
    "import numpy as np\n",
    "\n",
    "from sklearn.cluster import DBSCAN\n",
    "from shapely.geometry import MultiPoint\n",
    "\n",
    "\n",
    "epsilon = 1000.e3 / kms_per_radian\n",
    "\n",
    "def get_centermost_point(cluster):\n",
    "    centroid = (MultiPoint(cluster).centroid.x, MultiPoint(cluster).centroid.y)\n",
    "    radius = max(list(map(lambda point: geo_distance(point, centroid), cluster )))\n",
    "    return tuple(centroid), radius\n",
    "\n",
    "\n",
    "df = pd.DataFrame(data)\n",
    "\n",
    "db = DBSCAN(eps=epsilon,\n",
    "            min_samples=1,\n",
    "            algorithm='ball_tree',\n",
    "            metric='haversine').fit(np.radians(df[0].tolist()), y=None)\n",
    "\n",
    "cluster_labels = db.labels_\n",
    "num_clusters = len(set(cluster_labels))\n",
    "clusters = pd.Series([df[cluster_labels == n] for n in range(num_clusters)])\n",
    "\n",
    "print(f'Number of clusters: {num_clusters}')"
   ]
  },
  {
   "cell_type": "markdown",
   "id": "5cd10406-ffa8-48f2-b790-c6988e991c45",
   "metadata": {},
   "source": [
    "# LARGEST CLUSTER"
   ]
  },
  {
   "cell_type": "code",
   "execution_count": 30,
   "id": "6451b0fa-bccd-498c-886a-776c2c30c1d7",
   "metadata": {
    "tags": []
   },
   "outputs": [],
   "source": [
    "biggest_cluster_index = np.argmax([len(i) for i in clusters])\n",
    "centermost_points, radius = get_centermost_point(clusters[biggest_cluster_index][0].tolist())\n",
    "\n",
    "largest_cluster = clusters[biggest_cluster_index][0]"
   ]
  },
  {
   "cell_type": "markdown",
   "id": "daa4f1ef-7075-4e6c-b499-ce2833403995",
   "metadata": {},
   "source": [
    "# ERROR ESTIMATION"
   ]
  },
  {
   "cell_type": "code",
   "execution_count": 31,
   "id": "570c32bf-904e-4bd8-a0ae-cf6d75d55365",
   "metadata": {
    "tags": []
   },
   "outputs": [
    {
     "name": "stdout",
     "output_type": "stream",
     "text": [
      "550.8592746760016\n"
     ]
    }
   ],
   "source": [
    "import math\n",
    "\n",
    "def error_function(target, points, distances):\n",
    "    return [abs(geo_distance(points[i], target) - distances[i]) for i in range(len(points))]\n",
    "\n",
    "\n",
    "residuals =  np.array(error_function(centermost_points, points, dists))**2\n",
    "residuals /= (np.array(errs))\n",
    "\n",
    "err = (sum(np.array(residuals))/(sum(1./np.array(errs)**2)))**0.5\n",
    "print(err/1000)"
   ]
  },
  {
   "cell_type": "markdown",
   "id": "038e17e4-472c-4636-a5f6-d38efc990185",
   "metadata": {},
   "source": [
    "# PLOTTING..."
   ]
  },
  {
   "cell_type": "code",
   "execution_count": 32,
   "id": "cfe552fc-d2c9-4933-8eab-6a9fbada4937",
   "metadata": {
    "tags": []
   },
   "outputs": [
    {
     "data": {
      "text/html": [
       "<div style=\"width:100%;\"><div style=\"position:relative;width:100%;height:0;padding-bottom:60%;\"><span style=\"color:#565656\">Make this Notebook Trusted to load map: File -> Trust Notebook</span><iframe srcdoc=\"&lt;!DOCTYPE html&gt;\n",
       "&lt;html&gt;\n",
       "&lt;head&gt;\n",
       "    \n",
       "    &lt;meta http-equiv=&quot;content-type&quot; content=&quot;text/html; charset=UTF-8&quot; /&gt;\n",
       "    \n",
       "        &lt;script&gt;\n",
       "            L_NO_TOUCH = false;\n",
       "            L_DISABLE_3D = false;\n",
       "        &lt;/script&gt;\n",
       "    \n",
       "    &lt;style&gt;html, body {width: 100%;height: 100%;margin: 0;padding: 0;}&lt;/style&gt;\n",
       "    &lt;style&gt;#map {position:absolute;top:0;bottom:0;right:0;left:0;}&lt;/style&gt;\n",
       "    &lt;script src=&quot;https://cdn.jsdelivr.net/npm/leaflet@1.9.3/dist/leaflet.js&quot;&gt;&lt;/script&gt;\n",
       "    &lt;script src=&quot;https://code.jquery.com/jquery-1.12.4.min.js&quot;&gt;&lt;/script&gt;\n",
       "    &lt;script src=&quot;https://cdn.jsdelivr.net/npm/bootstrap@5.2.2/dist/js/bootstrap.bundle.min.js&quot;&gt;&lt;/script&gt;\n",
       "    &lt;script src=&quot;https://cdnjs.cloudflare.com/ajax/libs/Leaflet.awesome-markers/2.0.2/leaflet.awesome-markers.js&quot;&gt;&lt;/script&gt;\n",
       "    &lt;link rel=&quot;stylesheet&quot; href=&quot;https://cdn.jsdelivr.net/npm/leaflet@1.9.3/dist/leaflet.css&quot;/&gt;\n",
       "    &lt;link rel=&quot;stylesheet&quot; href=&quot;https://cdn.jsdelivr.net/npm/bootstrap@5.2.2/dist/css/bootstrap.min.css&quot;/&gt;\n",
       "    &lt;link rel=&quot;stylesheet&quot; href=&quot;https://netdna.bootstrapcdn.com/bootstrap/3.0.0/css/bootstrap.min.css&quot;/&gt;\n",
       "    &lt;link rel=&quot;stylesheet&quot; href=&quot;https://cdn.jsdelivr.net/npm/@fortawesome/fontawesome-free@6.2.0/css/all.min.css&quot;/&gt;\n",
       "    &lt;link rel=&quot;stylesheet&quot; href=&quot;https://cdnjs.cloudflare.com/ajax/libs/Leaflet.awesome-markers/2.0.2/leaflet.awesome-markers.css&quot;/&gt;\n",
       "    &lt;link rel=&quot;stylesheet&quot; href=&quot;https://cdn.jsdelivr.net/gh/python-visualization/folium/folium/templates/leaflet.awesome.rotate.min.css&quot;/&gt;\n",
       "    \n",
       "            &lt;meta name=&quot;viewport&quot; content=&quot;width=device-width,\n",
       "                initial-scale=1.0, maximum-scale=1.0, user-scalable=no&quot; /&gt;\n",
       "            &lt;style&gt;\n",
       "                #map_98ca4610f0956aa0b9a5d49ebe5a36fa {\n",
       "                    position: relative;\n",
       "                    width: 100.0%;\n",
       "                    height: 100.0%;\n",
       "                    left: 0.0%;\n",
       "                    top: 0.0%;\n",
       "                }\n",
       "                .leaflet-container { font-size: 1rem; }\n",
       "            &lt;/style&gt;\n",
       "        \n",
       "    &lt;script src=&quot;https://cdn.jsdelivr.net/gh/python-visualization/folium@main/folium/templates/leaflet_heat.min.js&quot;&gt;&lt;/script&gt;\n",
       "&lt;/head&gt;\n",
       "&lt;body&gt;\n",
       "    \n",
       "    \n",
       "            &lt;div class=&quot;folium-map&quot; id=&quot;map_98ca4610f0956aa0b9a5d49ebe5a36fa&quot; &gt;&lt;/div&gt;\n",
       "        \n",
       "&lt;/body&gt;\n",
       "&lt;script&gt;\n",
       "    \n",
       "    \n",
       "            var map_98ca4610f0956aa0b9a5d49ebe5a36fa = L.map(\n",
       "                &quot;map_98ca4610f0956aa0b9a5d49ebe5a36fa&quot;,\n",
       "                {\n",
       "                    center: [43.89864382147677, 18.014499572498064],\n",
       "                    crs: L.CRS.EPSG3857,\n",
       "                    zoom: 2,\n",
       "                    zoomControl: false,\n",
       "                    preferCanvas: false,\n",
       "                    scrollWheelZoom: false,\n",
       "                    dragging: false,\n",
       "                }\n",
       "            );\n",
       "\n",
       "            \n",
       "\n",
       "        \n",
       "    \n",
       "            var tile_layer_604d89466de02a7eb1d3f8d8a4a4926e = L.tileLayer(\n",
       "                &quot;https://cartodb-basemaps-{s}.global.ssl.fastly.net/light_all/{z}/{x}/{y}.png&quot;,\n",
       "                {&quot;attribution&quot;: &quot;\\u0026copy; \\u003ca target=\\&quot;_blank\\&quot; href=\\&quot;http://www.openstreetmap.org/copyright\\&quot;\\u003eOpenStreetMap\\u003c/a\\u003e contributors \\u0026copy; \\u003ca target=\\&quot;_blank\\&quot; href=\\&quot;http://cartodb.com/attributions\\&quot;\\u003eCartoDB\\u003c/a\\u003e, CartoDB \\u003ca target=\\&quot;_blank\\&quot; href =\\&quot;http://cartodb.com/attributions\\&quot;\\u003eattributions\\u003c/a\\u003e&quot;, &quot;detectRetina&quot;: false, &quot;maxNativeZoom&quot;: 18, &quot;maxZoom&quot;: 18, &quot;minZoom&quot;: 0, &quot;noWrap&quot;: false, &quot;opacity&quot;: 1, &quot;subdomains&quot;: &quot;abc&quot;, &quot;tms&quot;: false}\n",
       "            ).addTo(map_98ca4610f0956aa0b9a5d49ebe5a36fa);\n",
       "        \n",
       "    \n",
       "            var heat_map_cef734f1b7c2f53a8f7143910ffd70db = L.heatLayer(\n",
       "                [[41.626200578229934, 17.2500444860401], [41.615916067380525, 17.239209131655322], [41.616358901033095, 17.237918753940022], [41.63583294867667, 17.25831195558589], [41.634803644353084, 17.26784334869765], [41.615620565520196, 17.230679667320118], [41.615629737337564, 17.255049197897414], [41.61746479636167, 17.244146487583244], [39.6689707079716, 13.809172229569947], [39.67534452030457, 13.820814030863515], [39.67260635659814, 13.80722535750927], [39.68256031871278, 13.818458274700616], [39.673330409002894, 13.801359686919435], [39.67377124071403, 13.80087951375083], [39.66549571962708, 13.81338295314158], [39.680875194706886, 13.815510424248908], [57.81029799807447, 13.58562579861201], [57.810455479892546, 13.563239183618947], [57.82484622686832, 13.563385262086962], [57.82232978542332, 13.562083045667656], [57.811427578865235, 13.58661644567441], [57.8074026276889, 13.583376212525515], [57.81399031885568, 13.567290265689623], [57.8042106516025, 13.584370652803258], [36.684932272683724, 13.661799760345698], [36.685402313416596, 13.664215241155361], [36.682050494757625, 13.65771058044055], [36.6742248305162, 13.63987934691763], [36.6756793114401, 13.649445225552341], [36.667735193262494, 13.666092068594018], [36.684437261597516, 13.639415109283803], [41.207977409465954, 15.45738057795231], [41.21325737254556, 15.476926444894342], [41.209062171748805, 15.47561143623787], [41.22004355678064, 15.473507752626306], [41.19285751910006, 15.463426751014943], [41.23173527937258, 15.484440919091712], [41.213302651338125, 15.472449478691201], [41.2136838413694, 15.467034463567506], [41.815832579967356, 17.33846878895903], [42.107963447918074, 16.376671208891267], [41.80482793792916, 17.33220452874096], [41.82515805326127, 17.34176965468034], [41.809537781085695, 17.33686720923982], [42.11270465371112, 16.380711426882378], [41.81296186210654, 17.34049062302724], [42.10228715315173, 16.36957611293234], [42.10554990635144, 16.369101618051825], [41.81664559577525, 17.343147527948435], [42.10863214079341, 16.37943873392741], [41.813264963895335, 17.341634264140552], [42.11196126390347, 16.394707352455068], [42.11320430107787, 16.385136410900845], [42.11350976619959, 16.375437850028284], [41.818900067228036, 17.342570743742595], [41.6683460269486, 16.967963568681068], [41.68464239268682, 16.977419389344753], [41.6753466161133, 16.978965680875458], [41.67635590824717, 16.985693290726406], [41.681861333528275, 16.979508864505192], [41.681900250966095, 16.97279425175006], [41.67904529804005, 16.976546434773326], [41.68219182178534, 16.971730453655788], [42.68044568595502, 22.749252834612495], [42.65911046830758, 22.746127224893826], [42.672326208397614, 22.74019066319358], [42.67478548456465, 22.733881088210047], [42.67321877777408, 22.7390032469913], [42.62797333738691, 22.729208594898257], [42.66799971829653, 22.751445242210863], [42.663567404486855, 22.73854911824464], [49.46848342776756, 20.633531783523892], [49.47537623954634, 20.63428503131482], [49.49669609624354, 20.637615008027623], [49.46869710322005, 20.643599527807954], [49.47937951603763, 20.63669431079404], [49.483396930271404, 20.63866722673276], [49.411825933635164, 20.63945262471846], [49.581584515238525, 20.643309510210372], [38.720354355679156, 14.145261244358968], [38.727783280162285, 14.144532982083343], [38.72628698923318, 14.166756358542063], [38.71597970929079, 14.151655099812917], [38.72238179408835, 14.142655111392036], [38.72477588720154, 14.164554170168397], [38.72630372664551, 14.158289725073182], [38.72504378552868, 14.161692026001878], [42.206315446499985, 18.265689783391146], [42.20580876897432, 18.265798000576336], [42.204390705941236, 18.256798092233232], [42.2002104911197, 18.26343123543801], [42.21611592206266, 18.27143032182448], [42.20526342294258, 18.25306828447181], [42.19512046102604, 18.249990067034062], [42.20129456329506, 18.263187559135712], [41.609832946431915, 17.734035885298823], [41.621986654993556, 17.74512045520865], [41.61580352583035, 17.74508533678747], [41.60451704566099, 17.735677691601875], [41.60858631301688, 17.737964045411932], [41.61598795025338, 17.748225133487168], [41.61578939201835, 17.748011489469228], [42.366306335730734, 21.313883494996386], [42.36109027000486, 21.30907151008802], [42.35922967558511, 21.320240532460545], [42.38619651644929, 21.328795630273703], [41.6225464741441, 17.74513705823036], [42.36377742721406, 21.319670548898788], [42.3736395638035, 21.312932140412265], [42.352809371321534, 21.319372588143377], [42.36737654132844, 21.31590072311695], [40.73491024401187, 20.366586624788187], [40.74876863259188, 20.356747678080513], [40.768573581501286, 20.35704213179583], [40.779768650868874, 20.38001255739346], [40.75313250449875, 20.35390938246466], [40.7821651277429, 20.382465339224794], [40.754038131300355, 20.353145777584615], [40.7567819359675, 20.373978410013613], [42.385361941883104, 20.35995110052053], [48.4140201418439, 20.430505938136548], [48.41226014776877, 20.43950200190996], [48.42402985720827, 20.434326746017042], [48.37796257059679, 20.423127497791377], [48.441529961939494, 20.444645781809708], [42.387375515991415, 20.370561666694055], [48.46681358028924, 20.442047456967437], [48.44472312433792, 20.44681312886196], [48.420336102174076, 20.437043915335224], [42.40266433935449, 20.375462309205645], [42.41547774686945, 20.388349934609934], [42.36736530832439, 20.356192972683598], [42.3956875207232, 20.38034680330215], [42.395377299806796, 20.381211887653766], [42.36463834676795, 20.358484173671222], [41.53329320523677, 20.733709801031655], [41.54146471161604, 20.734765806588662], [41.53875635381328, 20.734910738266947], [41.52568330913382, 20.746043791006215], [41.526476010520874, 20.731441663650454], [41.52916027192022, 20.721514421996634], [41.533918572708195, 20.743285210284867], [41.53898114845044, 20.741505853167563], [54.9149301244131, 16.401558498647095], [54.89604036072138, 16.413909015966908], [54.903770942325956, 16.42587554717697], [54.897355457693436, 16.419554141373403], [54.88738823553712, 16.42989336457155], [54.90120937969978, 16.43554156607088], [54.884514426020814, 16.43884071171215], [54.872840175983654, 16.42750644485331], [48.969324516399794, 19.8556735199111], [48.98575054083291, 19.865699287670424], [48.970451286404675, 19.858773617621406], [49.01061133741083, 19.86478382193309], [48.994358201795684, 19.869330483383745], [49.075381772703736, 19.86676974319285], [48.938997856246445, 19.856748663593415], [48.99055610770171, 19.858750137620973], [46.1432775785425, 18.484366884339686], [46.13339254803107, 18.484303007559213], [52.511380172570234, 18.799836814390876], [46.19561185489544, 18.501993012666862], [48.4888837806611, 18.835629686796054], [48.55427112708296, 18.846206883753666], [52.58584169355105, 18.778860814636683], [46.17483997102814, 18.49852533816531], [48.56687791003479, 18.83725995352419], [48.71139968787582, 18.863215047964353], [46.21379633774685, 18.505285795070165], [52.48000468347362, 18.812752400759052], [48.547195380003906, 18.837313993912375], [48.46007926840066, 18.832704687427785], [48.55737094986682, 18.84394050304631], [48.49190095294481, 18.833774930659008], [42.09379615427952, 18.485583442498363], [42.091421237866584, 18.48693802399035], [42.08989098732819, 18.48250137548609], [42.0879660435362, 18.479365624581675], [42.08525053298605, 18.47693010673559], [42.094226200836154, 18.492983715618642], [42.083309075582775, 18.484155925834216], [42.08981266099586, 18.49175892101213], [41.0969786433433, 15.968184349789773], [41.09475569659124, 15.954501700971765], [41.08136321693441, 15.952975597961208], [41.085604002908966, 15.967929101745955], [41.09638422429321, 15.954308874000343], [41.08465133600948, 15.961559159184583], [41.09491722627787, 15.957969132904049], [41.09624792169849, 15.963486851354041], [40.125371755823906, 20.484449435342906], [40.12590245037442, 20.480457731300948], [40.1385085331384, 20.49376609662954], [40.1275925586123, 20.48713191159212], [40.130590047274154, 20.489603383979215], [40.130963956739905, 20.481328594853057], [40.140589738340864, 20.48950039909739], [40.14016945155241, 20.500073233741468], [41.872575242224904, 17.736401238194027], [41.868941568446154, 17.73314244809629]],\n",
       "                {&quot;blur&quot;: 9, &quot;maxZoom&quot;: 18, &quot;minOpacity&quot;: 0.5, &quot;radius&quot;: 14}\n",
       "            ).addTo(map_98ca4610f0956aa0b9a5d49ebe5a36fa);\n",
       "        \n",
       "    \n",
       "            var circle_0b098c41f3fc395b0e8c19d7a5a3b69c = L.circle(\n",
       "                [43.89864382147677, 18.014499572498064],\n",
       "                {&quot;bubblingMouseEvents&quot;: true, &quot;color&quot;: &quot;red&quot;, &quot;dashArray&quot;: null, &quot;dashOffset&quot;: null, &quot;fill&quot;: false, &quot;fillColor&quot;: &quot;red&quot;, &quot;fillOpacity&quot;: 0.2, &quot;fillRule&quot;: &quot;evenodd&quot;, &quot;lineCap&quot;: &quot;round&quot;, &quot;lineJoin&quot;: &quot;round&quot;, &quot;opacity&quot;: 1.0, &quot;radius&quot;: 550859.2746760016, &quot;stroke&quot;: true, &quot;weight&quot;: 3}\n",
       "            ).addTo(map_98ca4610f0956aa0b9a5d49ebe5a36fa);\n",
       "        \n",
       "    \n",
       "            var circle_60c9770673db3ee7be84f22d57ca630a = L.circle(\n",
       "                [43.89864382147677, 18.014499572498064],\n",
       "                {&quot;bubblingMouseEvents&quot;: true, &quot;color&quot;: &quot;red&quot;, &quot;dashArray&quot;: null, &quot;dashOffset&quot;: null, &quot;fill&quot;: false, &quot;fillColor&quot;: &quot;red&quot;, &quot;fillOpacity&quot;: 0.2, &quot;fillRule&quot;: &quot;evenodd&quot;, &quot;lineCap&quot;: &quot;round&quot;, &quot;lineJoin&quot;: &quot;round&quot;, &quot;opacity&quot;: 0.5, &quot;radius&quot;: 1101718.5493520033, &quot;stroke&quot;: true, &quot;weight&quot;: 3}\n",
       "            ).addTo(map_98ca4610f0956aa0b9a5d49ebe5a36fa);\n",
       "        \n",
       "    \n",
       "            var circle_8d4668d64debc80c0185ede9862568be = L.circle(\n",
       "                [43.89864382147677, 18.014499572498064],\n",
       "                {&quot;bubblingMouseEvents&quot;: true, &quot;color&quot;: &quot;red&quot;, &quot;dashArray&quot;: null, &quot;dashOffset&quot;: null, &quot;fill&quot;: false, &quot;fillColor&quot;: &quot;red&quot;, &quot;fillOpacity&quot;: 0.2, &quot;fillRule&quot;: &quot;evenodd&quot;, &quot;lineCap&quot;: &quot;round&quot;, &quot;lineJoin&quot;: &quot;round&quot;, &quot;opacity&quot;: 0.3333333333333333, &quot;radius&quot;: 1652577.824028005, &quot;stroke&quot;: true, &quot;weight&quot;: 3}\n",
       "            ).addTo(map_98ca4610f0956aa0b9a5d49ebe5a36fa);\n",
       "        \n",
       "    \n",
       "            var circle_0312a25c74d65ba2b946ee0af5d68542 = L.circle(\n",
       "                [35.68972, 139.69222],\n",
       "                {&quot;bubblingMouseEvents&quot;: true, &quot;color&quot;: &quot;black&quot;, &quot;dashArray&quot;: null, &quot;dashOffset&quot;: null, &quot;fill&quot;: false, &quot;fillColor&quot;: &quot;black&quot;, &quot;fillOpacity&quot;: 0.2, &quot;fillRule&quot;: &quot;evenodd&quot;, &quot;lineCap&quot;: &quot;round&quot;, &quot;lineJoin&quot;: &quot;round&quot;, &quot;opacity&quot;: 0.05, &quot;radius&quot;: 18474788.937104985, &quot;stroke&quot;: true, &quot;weight&quot;: 3}\n",
       "            ).addTo(map_98ca4610f0956aa0b9a5d49ebe5a36fa);\n",
       "        \n",
       "    \n",
       "            var circle_dccf94c560bf90d612d079465e8dfd21 = L.circle(\n",
       "                [59.334591, 18.06324],\n",
       "                {&quot;bubblingMouseEvents&quot;: true, &quot;color&quot;: &quot;black&quot;, &quot;dashArray&quot;: null, &quot;dashOffset&quot;: null, &quot;fill&quot;: false, &quot;fillColor&quot;: &quot;black&quot;, &quot;fillOpacity&quot;: 0.2, &quot;fillRule&quot;: &quot;evenodd&quot;, &quot;lineCap&quot;: &quot;round&quot;, &quot;lineJoin&quot;: &quot;round&quot;, &quot;opacity&quot;: 0.05, &quot;radius&quot;: 3456760.143518255, &quot;stroke&quot;: true, &quot;weight&quot;: 3}\n",
       "            ).addTo(map_98ca4610f0956aa0b9a5d49ebe5a36fa);\n",
       "        \n",
       "    \n",
       "            var circle_7c443894890330a6f825bf517f8f6438 = L.circle(\n",
       "                [45.45524, -119.63342],\n",
       "                {&quot;bubblingMouseEvents&quot;: true, &quot;color&quot;: &quot;black&quot;, &quot;dashArray&quot;: null, &quot;dashOffset&quot;: null, &quot;fill&quot;: false, &quot;fillColor&quot;: &quot;black&quot;, &quot;fillOpacity&quot;: 0.2, &quot;fillRule&quot;: &quot;evenodd&quot;, &quot;lineCap&quot;: &quot;round&quot;, &quot;lineJoin&quot;: &quot;round&quot;, &quot;opacity&quot;: 0.05, &quot;radius&quot;: 12399186.051793927, &quot;stroke&quot;: true, &quot;weight&quot;: 3}\n",
       "            ).addTo(map_98ca4610f0956aa0b9a5d49ebe5a36fa);\n",
       "        \n",
       "    \n",
       "            var circle_c261ccab048a2a6b86091d51ec45d40e = L.circle(\n",
       "                [50.110924, 8.682127],\n",
       "                {&quot;bubblingMouseEvents&quot;: true, &quot;color&quot;: &quot;black&quot;, &quot;dashArray&quot;: null, &quot;dashOffset&quot;: null, &quot;fill&quot;: false, &quot;fillColor&quot;: &quot;black&quot;, &quot;fillOpacity&quot;: 0.2, &quot;fillRule&quot;: &quot;evenodd&quot;, &quot;lineCap&quot;: &quot;round&quot;, &quot;lineJoin&quot;: &quot;round&quot;, &quot;opacity&quot;: 0.05, &quot;radius&quot;: 1706034.46397848, &quot;stroke&quot;: true, &quot;weight&quot;: 3}\n",
       "            ).addTo(map_98ca4610f0956aa0b9a5d49ebe5a36fa);\n",
       "        \n",
       "    \n",
       "            var circle_ce76e6ad0f2636b02fe7b2ace348adfb = L.circle(\n",
       "                [39.04237, -77.487244],\n",
       "                {&quot;bubblingMouseEvents&quot;: true, &quot;color&quot;: &quot;black&quot;, &quot;dashArray&quot;: null, &quot;dashOffset&quot;: null, &quot;fill&quot;: false, &quot;fillColor&quot;: &quot;black&quot;, &quot;fillOpacity&quot;: 0.2, &quot;fillRule&quot;: &quot;evenodd&quot;, &quot;lineCap&quot;: &quot;round&quot;, &quot;lineJoin&quot;: &quot;round&quot;, &quot;opacity&quot;: 0.05, &quot;radius&quot;: 7243104.824737862, &quot;stroke&quot;: true, &quot;weight&quot;: 3}\n",
       "            ).addTo(map_98ca4610f0956aa0b9a5d49ebe5a36fa);\n",
       "        \n",
       "    \n",
       "            var circle_468836041de0e8b71d157678ed564afe = L.circle(\n",
       "                [40.058731, -83.175583],\n",
       "                {&quot;bubblingMouseEvents&quot;: true, &quot;color&quot;: &quot;black&quot;, &quot;dashArray&quot;: null, &quot;dashOffset&quot;: null, &quot;fill&quot;: false, &quot;fillColor&quot;: &quot;black&quot;, &quot;fillOpacity&quot;: 0.2, &quot;fillRule&quot;: &quot;evenodd&quot;, &quot;lineCap&quot;: &quot;round&quot;, &quot;lineJoin&quot;: &quot;round&quot;, &quot;opacity&quot;: 0.05, &quot;radius&quot;: 9123160.33455665, &quot;stroke&quot;: true, &quot;weight&quot;: 3}\n",
       "            ).addTo(map_98ca4610f0956aa0b9a5d49ebe5a36fa);\n",
       "        \n",
       "    \n",
       "            var circle_c972ba9993a6db0bd1a5470cba4d7bce = L.circle(\n",
       "                [37.5326, 127.024612],\n",
       "                {&quot;bubblingMouseEvents&quot;: true, &quot;color&quot;: &quot;black&quot;, &quot;dashArray&quot;: null, &quot;dashOffset&quot;: null, &quot;fill&quot;: false, &quot;fillColor&quot;: &quot;black&quot;, &quot;fillOpacity&quot;: 0.2, &quot;fillRule&quot;: &quot;evenodd&quot;, &quot;lineCap&quot;: &quot;round&quot;, &quot;lineJoin&quot;: &quot;round&quot;, &quot;opacity&quot;: 0.05, &quot;radius&quot;: 19221635.119394213, &quot;stroke&quot;: true, &quot;weight&quot;: 3}\n",
       "            ).addTo(map_98ca4610f0956aa0b9a5d49ebe5a36fa);\n",
       "        \n",
       "    \n",
       "            var circle_30bb6087a3d6718060ef9e77efc6649a = L.circle(\n",
       "                [48.864716, 2.349014],\n",
       "                {&quot;bubblingMouseEvents&quot;: true, &quot;color&quot;: &quot;black&quot;, &quot;dashArray&quot;: null, &quot;dashOffset&quot;: null, &quot;fill&quot;: false, &quot;fillColor&quot;: &quot;black&quot;, &quot;fillOpacity&quot;: 0.2, &quot;fillRule&quot;: &quot;evenodd&quot;, &quot;lineCap&quot;: &quot;round&quot;, &quot;lineJoin&quot;: &quot;round&quot;, &quot;opacity&quot;: 0.05, &quot;radius&quot;: 2449415.823039899, &quot;stroke&quot;: true, &quot;weight&quot;: 3}\n",
       "            ).addTo(map_98ca4610f0956aa0b9a5d49ebe5a36fa);\n",
       "        \n",
       "    \n",
       "            var circle_3e737242b09d4e56e742d5ea95021178 = L.circle(\n",
       "                [19.07609, 72.877426],\n",
       "                {&quot;bubblingMouseEvents&quot;: true, &quot;color&quot;: &quot;black&quot;, &quot;dashArray&quot;: null, &quot;dashOffset&quot;: null, &quot;fill&quot;: false, &quot;fillColor&quot;: &quot;black&quot;, &quot;fillOpacity&quot;: 0.2, &quot;fillRule&quot;: &quot;evenodd&quot;, &quot;lineCap&quot;: &quot;round&quot;, &quot;lineJoin&quot;: &quot;round&quot;, &quot;opacity&quot;: 0.05, &quot;radius&quot;: 15031108.20204837, &quot;stroke&quot;: true, &quot;weight&quot;: 3}\n",
       "            ).addTo(map_98ca4610f0956aa0b9a5d49ebe5a36fa);\n",
       "        \n",
       "    \n",
       "            var circle_3f6b1a0b57241033cb2d60efa359606a = L.circle(\n",
       "                [45.50884, -73.58781],\n",
       "                {&quot;bubblingMouseEvents&quot;: true, &quot;color&quot;: &quot;black&quot;, &quot;dashArray&quot;: null, &quot;dashOffset&quot;: null, &quot;fill&quot;: false, &quot;fillColor&quot;: &quot;black&quot;, &quot;fillOpacity&quot;: 0.2, &quot;fillRule&quot;: &quot;evenodd&quot;, &quot;lineCap&quot;: &quot;round&quot;, &quot;lineJoin&quot;: &quot;round&quot;, &quot;opacity&quot;: 0.05, &quot;radius&quot;: 8313876.623488648, &quot;stroke&quot;: true, &quot;weight&quot;: 3}\n",
       "            ).addTo(map_98ca4610f0956aa0b9a5d49ebe5a36fa);\n",
       "        \n",
       "&lt;/script&gt;\n",
       "&lt;/html&gt;\" style=\"position:absolute;width:100%;height:100%;left:0;top:0;border:none !important;\" allowfullscreen webkitallowfullscreen mozallowfullscreen></iframe></div></div>"
      ],
      "text/plain": [
       "<folium.folium.Map at 0x15a941710>"
      ]
     },
     "execution_count": 32,
     "metadata": {},
     "output_type": "execute_result"
    }
   ],
   "source": [
    "from folium.plugins import HeatMap\n",
    "\n",
    "world_map = folium.Map(location=centermost_points,\n",
    "                       zoom_start=2,\n",
    "                       tiles='cartodbpositron',\n",
    "                       zoom_control=False,\n",
    "                       scrollWheelZoom=False,\n",
    "                       dragging=False,)\n",
    "                       \n",
    "#HeatMap(df[0], radius=10, blur=7).add_to(world_map)\n",
    "\n",
    "HeatMap(largest_cluster, radius=14, blur=9).add_to(world_map)\n",
    "\n",
    "pos = data[0][3]\n",
    "for i in range(1,4):\n",
    "    folium.Circle(centermost_points,\n",
    "                  color = 'red',\n",
    "                  radius = err*i, #max(dists)*0.07\n",
    "                  opacity=1/i,\n",
    "                 ).add_to(world_map)\n",
    "\n",
    "\n",
    "for i in range(len(points)):\n",
    "    folium.Circle(points[i],\n",
    "               color = 'black',\n",
    "               radius = C_dists[i],\n",
    "               opacity=0.05,\n",
    "              ).add_to(world_map)\n",
    "\n",
    "    \n",
    "world_map # plot it!"
   ]
  },
  {
   "cell_type": "code",
   "execution_count": null,
   "id": "74c9373c-156e-451d-b338-123454a6963a",
   "metadata": {},
   "outputs": [],
   "source": []
  }
 ],
 "metadata": {
  "kernelspec": {
   "display_name": "Python 3 (ipykernel)",
   "language": "python",
   "name": "python3"
  },
  "language_info": {
   "codemirror_mode": {
    "name": "ipython",
    "version": 3
   },
   "file_extension": ".py",
   "mimetype": "text/x-python",
   "name": "python",
   "nbconvert_exporter": "python",
   "pygments_lexer": "ipython3",
   "version": "3.11.2"
  }
 },
 "nbformat": 4,
 "nbformat_minor": 5
}
