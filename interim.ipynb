{
 "cells": [
  {
   "cell_type": "markdown",
   "id": "f893f257-a18b-45af-a89a-f442c61d0d47",
   "metadata": {},
   "source": [
    "# IMPORTING STUFFS"
   ]
  },
  {
   "cell_type": "code",
   "execution_count": null,
   "id": "3d834307-e65f-434f-9961-c714ddc3b0dd",
   "metadata": {
    "tags": []
   },
   "outputs": [],
   "source": [
    "import numpy as np\n",
    "\n",
    "import folium\n",
    "import pickle\n",
    "import datetime as dt\n",
    "import random as rnd\n",
    "import itertools\n",
    "import requests\n",
    "from numpy import mean, std\n",
    "from scipy.optimize import differential_evolution as optimizer\n",
    "\n",
    "from math import radians, acos, sin, cos, sin,degrees, sqrt, log, exp\n"
   ]
  },
  {
   "cell_type": "markdown",
   "id": "77482b17-9356-4f84-9351-0ec08bbb0de4",
   "metadata": {},
   "source": [
    "# SOME CONSTANTS"
   ]
  },
  {
   "cell_type": "code",
   "execution_count": null,
   "id": "8e9da7df-5fd0-4dad-b84e-84f756680ef5",
   "metadata": {
    "tags": []
   },
   "outputs": [],
   "source": [
    "R =  6371.0088e3\n",
    "kms_per_radian = R # quite obvious :)\n",
    "\n",
    "model_version = '0_43_2_2'\n",
    "model_version = '0_99_5'\n"
   ]
  },
  {
   "cell_type": "markdown",
   "id": "03b56544-c0a1-4a0b-bd80-ae348c7fc861",
   "metadata": {},
   "source": [
    "---\n",
    "# FUNCTIONS"
   ]
  },
  {
   "cell_type": "markdown",
   "id": "ee22813e-beb6-4de7-96d0-76591d276473",
   "metadata": {},
   "source": [
    "## SHORTEST ARC\n",
    "The haversine formula determines the **great-circle distance between two points on a sphere** given their longitudes and latitudes. Important in navigation, it is a special case of a more general formula in spherical trigonometry, the law of haversines, that relates the sides and angles of spherical triangles.\n",
    "\n",
    "[Haversine funtion](https://en.wikipedia.org/wiki/Haversine_formula)"
   ]
  },
  {
   "cell_type": "code",
   "execution_count": null,
   "id": "c246ec1c-1ab1-41c2-b6f5-259ded810643",
   "metadata": {},
   "outputs": [],
   "source": [
    "def geo_distance(P1, P2):\n",
    "    # [lat, lon]\n",
    "    lat1, lon1, lat2, lon2 = map(radians, [P1[0], P1[1], P2[0], P2[1]])\n",
    "    return R * (\n",
    "        acos(sin(lat1) * sin(lat2) + cos(lat1) * cos(lat2) * cos(lon1 - lon2))\n",
    "    )"
   ]
  },
  {
   "cell_type": "markdown",
   "id": "bf1b8939-9f92-4ed5-9439-9da88d20cef5",
   "metadata": {},
   "source": [
    "## SVR DISTANCE MODEL\n",
    "Our ml_model"
   ]
  },
  {
   "cell_type": "code",
   "execution_count": null,
   "id": "9d3cff52-f972-4dca-b9ca-fb3896d1801e",
   "metadata": {},
   "outputs": [],
   "source": [
    "from sklearn import svm\n",
    "\n",
    "svm_model = pickle.load(open(f'models/Little_SVM_{model_version}.pkl', 'rb'))\n",
    "svm_error_model = pickle.load(open(f'models/Little_SVM_{model_version}_err.pkl', 'rb'))\n",
    "\n",
    "\n",
    "with open(f'models/country_codes_svm.pkl','rb') as fp:\n",
    "    country_codes = pickle.load(fp)\n",
    "\n",
    "\n",
    "def ml_model(t, country_code):\n",
    "    b=[t]\n",
    "    b=np.array(b).reshape(1,1)\n",
    "    v=get_bow(country_code) * t\n",
    "    v=v.reshape(1,len(country_codes))\n",
    "    prediction = svm_model.predict(v)\n",
    "    error = svm_error_model.predict(v)\n",
    "    D = prediction*20.0e6\n",
    "    E = error\n",
    "    return D[0], E[0]\n",
    "\n",
    "\n",
    "def get_bow(country_code):\n",
    "    country_dict = {code:0 for code in country_codes}\n",
    "    country_dict[country_code] = 1.0\n",
    "    return np.fromiter(country_dict.values(), dtype=float)"
   ]
  },
  {
   "cell_type": "markdown",
   "id": "b80b2fbb-cfc5-414e-be22-b773392f5015",
   "metadata": {},
   "source": [
    "---"
   ]
  },
  {
   "cell_type": "markdown",
   "id": "be443e09-99f6-4326-8332-c3e98aba9401",
   "metadata": {},
   "source": [
    "# DATA\n",
    "\n",
    "put here you points, country codes, and latency data\n",
    "(example data of a server in Italy https://dw2xlr3zknsst.cloudfront.net/u)\n"
   ]
  },
  {
   "cell_type": "code",
   "execution_count": null,
   "id": "103709c6-07b5-4082-9ff5-282f6c265b32",
   "metadata": {
    "tags": []
   },
   "outputs": [],
   "source": [
    "src_country_codes = ['JP', 'SE', 'US', 'DE', 'US', 'US', 'KR', 'FR', 'IN', 'CA']\n",
    "\n",
    "points = [[35.68972, 139.69222],\n",
    "          [59.334591, 18.06324],\n",
    "          [45.45524, -119.63342],\n",
    "          [50.110924, 8.682127],\n",
    "          [39.04237, -77.487244],\n",
    "          [40.058731, -83.175583],\n",
    "          [37.5326, 127.024612],\n",
    "          [48.864716, 2.349014],\n",
    "          [19.07609, 72.877426],\n",
    "          [45.50884, -73.58781]\n",
    "         ]\n",
    "\n",
    "times = [0.39523700000000006,\n",
    "         0.18285,\n",
    "         0.309315,\n",
    "         0.15809099999999998,\n",
    "         0.23639700000000002,\n",
    "         0.26298499999999997,\n",
    "         0.405799,\n",
    "         0.168604,\n",
    "         0.34653599999999996,\n",
    "         0.25154]\n"
   ]
  },
  {
   "cell_type": "markdown",
   "id": "b377bb88-a3b1-43be-978b-6a1bfce33845",
   "metadata": {},
   "source": [
    "# ESTIMATE OFFSET"
   ]
  },
  {
   "cell_type": "code",
   "execution_count": null,
   "id": "902f3c99-35ea-44c3-a534-434bd0d3a924",
   "metadata": {
    "tags": []
   },
   "outputs": [],
   "source": [
    "%%time\n",
    "\n",
    "def offset_trilateration(points, times):\n",
    "    def error(x, p, t):\n",
    "        err = 0\n",
    "        for i in range(len(p)):\n",
    "            d = geo_distance(p[i], x[0:2])\n",
    "            distance, error = ml_model(t[i] - x[2], src_country_codes[i])\n",
    "            err +=  abs(d - (distance))\n",
    "        return err\n",
    "    \n",
    "    bounds = [(-50., 80.),\n",
    "              (-180., 180.),\n",
    "              (0, min(times)),  #we want non negative latencies\n",
    "             ]\n",
    "    \n",
    "    res = optimizer(error,\n",
    "                    bounds,\n",
    "                    args=(points, times),\n",
    "                    strategy='best1bin',\n",
    "                    popsize=10,\n",
    "                    tol=1e-2,\n",
    "                    init='random')\n",
    "    \n",
    "    return res.x, res.fun\n",
    "\n",
    "\n",
    "              \n",
    "data = []\n",
    "k = len(points)\n",
    "\n",
    "for N in range(k-1, k+1):\n",
    "    combinations = list(itertools.combinations(range(len(points)), N))\n",
    "    for pos in combinations:\n",
    "        _points = [points[index] for index in pos]\n",
    "        _times  = [times[index] for index in pos]\n",
    "        \n",
    "        out, fun = offset_trilateration(_points, _times)\n",
    "        target = out[0:2]\n",
    "        print(out[2])\n",
    "        data.append([target, out[2], fun, pos ])"
   ]
  },
  {
   "cell_type": "code",
   "execution_count": null,
   "id": "420a9cd9-65ef-4d03-82e6-7602084b0cf3",
   "metadata": {},
   "outputs": [],
   "source": [
    "data_orig = data\n",
    "data_orig.sort(key=lambda x: x[2]) # sorting by offset"
   ]
  },
  {
   "cell_type": "code",
   "execution_count": null,
   "id": "0c8baded-b738-4ab8-b9ff-6d6803df3261",
   "metadata": {
    "tags": []
   },
   "outputs": [],
   "source": [
    "data = data_orig # first N offsets"
   ]
  },
  {
   "cell_type": "code",
   "execution_count": null,
   "id": "701961ac-6987-4234-b8d5-b4a5bb1200f1",
   "metadata": {},
   "outputs": [],
   "source": [
    "offset = data[0][1]\n",
    "offset = sum([d[1] for d in data]) / len(data) # mean value\n",
    "\n",
    "print(f'Offeset: {int(offset*1000)}ms')"
   ]
  },
  {
   "cell_type": "code",
   "execution_count": null,
   "id": "fcd03bf6-ae12-4945-a00d-133fc3353296",
   "metadata": {},
   "outputs": [],
   "source": [
    "times  = [t-offset for t in times] # applying offset"
   ]
  },
  {
   "cell_type": "markdown",
   "id": "b7cdce06-39eb-4b3f-883f-c04d101d01e9",
   "metadata": {},
   "source": [
    "---"
   ]
  },
  {
   "cell_type": "markdown",
   "id": "503dd8a6-6cc3-4798-9074-b3b18e296a46",
   "metadata": {},
   "source": [
    "# ESTIMATE DISTANCES"
   ]
  },
  {
   "cell_type": "code",
   "execution_count": null,
   "id": "3a0612ee-13bb-4ed9-9341-64c06c652777",
   "metadata": {
    "tags": []
   },
   "outputs": [],
   "source": [
    "dists = []\n",
    "errs  = []\n",
    "\n",
    "for i in range(len(points)):\n",
    "    distance, error = ml_model((times[i]), src_country_codes[i])\n",
    "    dists.append(abs(distance))\n",
    "    errs.append(error)\n",
    "    print(f'{src_country_codes[i]}\\t{int((times[i])*1000)} ms\\t{int(distance/1000)} Km')\n",
    "    \n",
    "errs = list(abs(np.array(errs)))"
   ]
  },
  {
   "cell_type": "code",
   "execution_count": null,
   "id": "00eb317d-ee02-43bd-8824-6d5a8112d93b",
   "metadata": {
    "tags": []
   },
   "outputs": [],
   "source": [
    "#C_Bound!\n",
    "\n",
    "C = 300.e6/(1.5)/(2**0.5)\n",
    "min_latency = min(times)\n",
    "min_latency_index = np.argmin(times)\n",
    "C_Radius = min_latency/2*C\n",
    "\n",
    "C_dists = [t/2*C for t in times]\n"
   ]
  },
  {
   "cell_type": "markdown",
   "id": "17385368-579b-430d-a8cf-11dc5574fc48",
   "metadata": {
    "tags": []
   },
   "source": [
    "---\n",
    "# DOING TRILATERATION"
   ]
  },
  {
   "cell_type": "code",
   "execution_count": null,
   "id": "8ed1b8a8-18a8-436d-af84-bac00a0612f9",
   "metadata": {},
   "outputs": [],
   "source": [
    "%%time\n",
    "def trilateration(points, distances, errors):\n",
    "    def error(x, points, distances, errors):\n",
    "        err = 0\n",
    "        for i in range(len(points)):\n",
    "            d = geo_distance(points[i], x[0:2])\n",
    "            err +=  (d - (distances[i]*x[2] ))**2 / errors[i]\n",
    "        return err\n",
    "    \n",
    "    x0 = np.mean(points, axis=0).tolist()\n",
    "    bounds = [(-50., 80.),\n",
    "              (-180., 180.),\n",
    "              (0.3, 1.7),\n",
    "              (-10_000e3, +10_000e3)\n",
    "             ]\n",
    "    res = optimizer(error, bounds, args=(points, distances, errors), strategy='best1bin', popsize=10, tol=1e-3)\n",
    "    return res.x, res.fun\n",
    "\n",
    "\n",
    "\n",
    "data_orig = []\n",
    "\n",
    "k = len(points)\n",
    "              \n",
    "for N in range(k-3,k+1):\n",
    "    combinations = list(itertools.combinations(range(len(points)), N))\n",
    "    for pos in combinations:\n",
    "        tries   = 8\n",
    "        points_ = [points[index] for index in pos]\n",
    "        dists_  = [dists[index]  for index in pos]\n",
    "        errs_   = [errs[index]*dists[index] for index in pos]\n",
    "\n",
    "        while tries:\n",
    "            dists__ = [np.random.normal(dists_[d], errs_[d]**0.5) for d in range(len(dists_))]\n",
    "            out, fun = trilateration(points_, dists__, errs)\n",
    "            target = out[0:2]\n",
    "\n",
    "            if geo_distance(target, points[min_latency_index]) :\n",
    "                data_orig.append([target, abs(1-out[2]), abs(out[3]), fun, pos ])\n",
    "                tries-=1"
   ]
  },
  {
   "cell_type": "code",
   "execution_count": null,
   "id": "9018e0df-236c-4651-8a91-7d003017ea63",
   "metadata": {},
   "outputs": [],
   "source": [
    "data_orig.sort(key=lambda x: x[3])"
   ]
  },
  {
   "cell_type": "code",
   "execution_count": null,
   "id": "7c715254-dfbd-4336-80f5-431729c80992",
   "metadata": {},
   "outputs": [],
   "source": [
    "data = data_orig[0:int(len(data_orig)/5)] # one tenth of most \"precise\" data\n",
    "len(data)"
   ]
  },
  {
   "cell_type": "markdown",
   "id": "41c2a318-2ec7-4e7e-a32e-4f22caf422ab",
   "metadata": {},
   "source": [
    "# CLUSTERING "
   ]
  },
  {
   "cell_type": "code",
   "execution_count": null,
   "id": "2d401fcb-0154-4abe-b19b-0a053dfd94c4",
   "metadata": {
    "tags": []
   },
   "outputs": [],
   "source": [
    "import pandas as pd\n",
    "import numpy as np\n",
    "\n",
    "from sklearn.cluster import DBSCAN\n",
    "from shapely.geometry import MultiPoint\n",
    "\n",
    "\n",
    "epsilon = 1000.e3 / kms_per_radian\n",
    "\n",
    "def get_centermost_point(cluster):\n",
    "    centroid = (MultiPoint(cluster).centroid.x, MultiPoint(cluster).centroid.y)\n",
    "    radius = max(list(map(lambda point: geo_distance(point, centroid), cluster )))\n",
    "    return tuple(centroid), radius\n",
    "\n",
    "\n",
    "df = pd.DataFrame(data)\n",
    "\n",
    "db = DBSCAN(eps=epsilon,\n",
    "            min_samples=1,\n",
    "            algorithm='ball_tree',\n",
    "            metric='haversine').fit(np.radians(df[0].tolist()), y=None)\n",
    "\n",
    "cluster_labels = db.labels_\n",
    "num_clusters = len(set(cluster_labels))\n",
    "clusters = pd.Series([df[cluster_labels == n] for n in range(num_clusters)])\n",
    "\n",
    "print(f'Number of clusters: {num_clusters}')"
   ]
  },
  {
   "cell_type": "markdown",
   "id": "5cd10406-ffa8-48f2-b790-c6988e991c45",
   "metadata": {},
   "source": [
    "# LARGEST CLUSTER"
   ]
  },
  {
   "cell_type": "code",
   "execution_count": null,
   "id": "6451b0fa-bccd-498c-886a-776c2c30c1d7",
   "metadata": {
    "tags": []
   },
   "outputs": [],
   "source": [
    "biggest_cluster_index = np.argmax([len(i) for i in clusters])\n",
    "centermost_points, radius = get_centermost_point(clusters[biggest_cluster_index][0].tolist())\n",
    "\n",
    "largest_cluster = clusters[biggest_cluster_index][0]"
   ]
  },
  {
   "cell_type": "markdown",
   "id": "daa4f1ef-7075-4e6c-b499-ce2833403995",
   "metadata": {},
   "source": [
    "# ERROR ESTIMATION"
   ]
  },
  {
   "cell_type": "code",
   "execution_count": null,
   "id": "570c32bf-904e-4bd8-a0ae-cf6d75d55365",
   "metadata": {
    "tags": []
   },
   "outputs": [],
   "source": [
    "import math\n",
    "\n",
    "def error_function(target, points, distances):\n",
    "    return [abs(geo_distance(points[i], target) - distances[i]) for i in range(len(points))]\n",
    "\n",
    "\n",
    "residuals =  np.array(error_function(centermost_points, points, dists))**2\n",
    "residuals /= (np.array(errs))\n",
    "\n",
    "err = (sum(np.array(residuals))/(sum(1./np.array(errs)**2)))**0.5\n",
    "print(err/1000)"
   ]
  },
  {
   "cell_type": "markdown",
   "id": "038e17e4-472c-4636-a5f6-d38efc990185",
   "metadata": {},
   "source": [
    "# PLOTTING..."
   ]
  },
  {
   "cell_type": "code",
   "execution_count": null,
   "id": "cfe552fc-d2c9-4933-8eab-6a9fbada4937",
   "metadata": {
    "tags": []
   },
   "outputs": [],
   "source": [
    "from folium.plugins import HeatMap\n",
    "\n",
    "world_map = folium.Map(location=centermost_points,\n",
    "                       zoom_start=2,\n",
    "                       tiles='cartodbpositron',\n",
    "                       zoom_control=False,\n",
    "                       scrollWheelZoom=False,\n",
    "                       dragging=False,)\n",
    "                       \n",
    "#HeatMap(df[0], radius=10, blur=7).add_to(world_map)\n",
    "\n",
    "HeatMap(largest_cluster, radius=14, blur=9).add_to(world_map)\n",
    "\n",
    "pos = data[0][3]\n",
    "for i in range(1,4):\n",
    "    folium.Circle(centermost_points,\n",
    "                  color = 'red',\n",
    "                  radius = err*i, #max(dists)*0.07\n",
    "                  opacity=1/i,\n",
    "                 ).add_to(world_map)\n",
    "\n",
    "\n",
    "for i in range(len(points)):\n",
    "    folium.Circle(points[i],\n",
    "               color = 'black',\n",
    "               radius = C_dists[i],\n",
    "               opacity=0.05,\n",
    "              ).add_to(world_map)\n",
    "\n",
    "    \n",
    "world_map # plot it!"
   ]
  },
  {
   "cell_type": "code",
   "execution_count": null,
   "id": "74c9373c-156e-451d-b338-123454a6963a",
   "metadata": {},
   "outputs": [],
   "source": []
  }
 ],
 "metadata": {
  "kernelspec": {
   "display_name": "Python 3 (ipykernel)",
   "language": "python",
   "name": "python3"
  },
  "language_info": {
   "codemirror_mode": {
    "name": "ipython",
    "version": 3
   },
   "file_extension": ".py",
   "mimetype": "text/x-python",
   "name": "python",
   "nbconvert_exporter": "python",
   "pygments_lexer": "ipython3",
   "version": "3.11.2"
  }
 },
 "nbformat": 4,
 "nbformat_minor": 5
}
